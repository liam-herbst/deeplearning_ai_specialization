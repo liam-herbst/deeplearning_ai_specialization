{
 "cells": [
  {
   "cell_type": "code",
   "execution_count": 30,
   "metadata": {
    "tags": []
   },
   "outputs": [
    {
     "output_type": "stream",
     "name": "stdout",
     "text": "[1 2 3 4]\n"
    }
   ],
   "source": [
    "import numpy as np\n",
    "\n",
    "a = np.array([1,2,3,4])\n",
    "print(a)"
   ]
  },
  {
   "cell_type": "code",
   "execution_count": 31,
   "metadata": {
    "tags": []
   },
   "outputs": [
    {
     "output_type": "stream",
     "name": "stdout",
     "text": "249947.77786138933\nVectorized version: 1.1284351348876953ms\n249947.7778613863\nFor loop: 494.5371150970459ms\n"
    }
   ],
   "source": [
    "import time\n",
    "\n",
    "a = np.random.rand(1000000)\n",
    "b = np.random.rand(1000000)\n",
    "\n",
    "tic = time.time()\n",
    "c = np.dot(a,b)\n",
    "toc = time.time()\n",
    "\n",
    "vector = 1000*(toc-tic)\n",
    "\n",
    "print(c)\n",
    "print('Vectorized version: ' + str(vector) + 'ms')\n",
    "\n",
    "c = 0\n",
    "\n",
    "tic = time.time()\n",
    "for i in range(1000000):\n",
    "    c += a[i] * b[i]\n",
    "toc = time.time()\n",
    "\n",
    "for_loop = 1000*(toc-tic)\n",
    "\n",
    "print(c)\n",
    "print('For loop: ' + str(for_loop) + 'ms')"
   ]
  },
  {
   "cell_type": "code",
   "execution_count": 32,
   "metadata": {
    "tags": []
   },
   "outputs": [
    {
     "output_type": "stream",
     "name": "stdout",
     "text": "The for loop is 438.25x slower than the vector\n"
    }
   ],
   "source": [
    "loop_to_vector_diff = for_loop / vector\n",
    "formatted_loop_to_vector = str('{:.2f}'.format(loop_to_vector_diff))\n",
    "\n",
    "print('The for loop is ' + formatted_loop_to_vector + 'x slower than the vector')"
   ]
  },
  {
   "source": [
    "**The key takeaway here is that vectorized functions consume only a small fraction as computing power and time as for loops.**"
   ],
   "cell_type": "markdown",
   "metadata": {}
  }
 ],
 "metadata": {
  "kernelspec": {
   "display_name": "Python 3.8.2 64-bit",
   "language": "python",
   "name": "python_defaultSpec_1601656292985"
  },
  "language_info": {
   "codemirror_mode": {
    "name": "ipython",
    "version": 3
   },
   "file_extension": ".py",
   "mimetype": "text/x-python",
   "name": "python",
   "nbconvert_exporter": "python",
   "pygments_lexer": "ipython3",
   "version": "3.8.2-final"
  }
 },
 "nbformat": 4,
 "nbformat_minor": 4
}
