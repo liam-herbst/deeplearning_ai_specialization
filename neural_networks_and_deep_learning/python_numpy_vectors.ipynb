{
 "metadata": {
  "language_info": {
   "codemirror_mode": {
    "name": "ipython",
    "version": 3
   },
   "file_extension": ".py",
   "mimetype": "text/x-python",
   "name": "python",
   "nbconvert_exporter": "python",
   "pygments_lexer": "ipython3",
   "version": "3.8.2-final"
  },
  "orig_nbformat": 2,
  "kernelspec": {
   "name": "Python 3.8.2 64-bit",
   "display_name": "Python 3.8.2 64-bit",
   "metadata": {
    "interpreter": {
     "hash": "31f2aee4e71d21fbe5cf8b01ff0e069b9275f58929596ceb00d14d90e3e16cd6"
    }
   }
  }
 },
 "nbformat": 4,
 "nbformat_minor": 2,
 "cells": [
  {
   "cell_type": "code",
   "execution_count": 8,
   "metadata": {
    "tags": []
   },
   "outputs": [
    {
     "output_type": "stream",
     "name": "stdout",
     "text": "[ 2.66987095  0.04868928 -0.70693784 -1.45955221 -1.15911929]\n"
    }
   ],
   "source": [
    "import numpy as np\n",
    "\n",
    "a = np.random.randn(5)\n",
    "\n",
    "print(a)"
   ]
  },
  {
   "cell_type": "code",
   "execution_count": 9,
   "metadata": {
    "tags": []
   },
   "outputs": [
    {
     "output_type": "stream",
     "name": "stdout",
     "text": "(5,)\n"
    }
   ],
   "source": [
    "print(a.shape)"
   ]
  },
  {
   "cell_type": "code",
   "execution_count": 10,
   "metadata": {
    "tags": []
   },
   "outputs": [
    {
     "output_type": "stream",
     "name": "stdout",
     "text": "[ 2.66987095  0.04868928 -0.70693784 -1.45955221 -1.15911929]\n"
    }
   ],
   "source": [
    "print(a.T)"
   ]
  },
  {
   "source": [
    "This shows us that a (the matrix) and a.transpose are the same.\n",
    "Ultimately, you should not use data structures where the shape is (5,)—this is called a rank 1 array. \n",
    "Use  a column (5,1) or row (1,5) vector instead."
   ],
   "cell_type": "markdown",
   "metadata": {}
  },
  {
   "cell_type": "code",
   "execution_count": 11,
   "metadata": {
    "tags": []
   },
   "outputs": [
    {
     "output_type": "stream",
     "name": "stdout",
     "text": "11.104192793440628\n"
    }
   ],
   "source": [
    "print(np.dot(a,a.T))"
   ]
  },
  {
   "cell_type": "code",
   "execution_count": 12,
   "metadata": {
    "tags": []
   },
   "outputs": [
    {
     "output_type": "stream",
     "name": "stdout",
     "text": "[[ 1.29131043e+00  6.92696862e-01]\n [-3.97183732e-01  5.55692543e-01]\n [ 4.76241284e-04  5.59121578e-01]\n [ 8.08130072e-01 -6.72011669e-01]\n [-1.57775155e+00 -1.25140126e+00]]\n"
    }
   ],
   "source": [
    "a = np.random.randn(5,2)\n",
    "print(a)"
   ]
  },
  {
   "cell_type": "code",
   "execution_count": 13,
   "metadata": {
    "tags": []
   },
   "outputs": [
    {
     "output_type": "stream",
     "name": "stdout",
     "text": "[[ 1.29131043e+00 -3.97183732e-01  4.76241284e-04  8.08130072e-01\n  -1.57775155e+00]\n [ 6.92696862e-01  5.55692543e-01  5.59121578e-01 -6.72011669e-01\n  -1.25140126e+00]]\n"
    }
   ],
   "source": [
    "print(a.T)"
   ]
  },
  {
   "cell_type": "code",
   "execution_count": 14,
   "metadata": {
    "tags": []
   },
   "outputs": [
    {
     "output_type": "stream",
     "name": "stdout",
     "text": "[[ 2.14731157 -0.12796101  0.38791674  0.57804642 -2.90420875]\n [-0.12796101  0.46654912  0.31051054 -0.69440799 -0.0687371 ]\n [ 0.38791674  0.31051054  0.31261717 -0.37535136 -0.70043684]\n [ 0.57804642 -0.69440799 -0.37535136  1.1046739  -0.43407223]\n [-2.90420875 -0.0687371  -0.70043684 -0.43407223  4.05530505]]\n"
    }
   ],
   "source": [
    "print(np.dot(a,a.T))"
   ]
  },
  {
   "source": [
    "That's better!"
   ],
   "cell_type": "markdown",
   "metadata": {}
  }
 ]
}
